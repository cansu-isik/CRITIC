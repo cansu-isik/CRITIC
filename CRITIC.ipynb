{
  "nbformat": 4,
  "nbformat_minor": 0,
  "metadata": {
    "colab": {
      "provenance": [],
      "collapsed_sections": []
    },
    "kernelspec": {
      "name": "python3",
      "display_name": "Python 3"
    }
  },
  "cells": [
    {
      "cell_type": "markdown",
      "source": [
        "CRITIC IMPLEMENTATION"
      ],
      "metadata": {
        "id": "mYaxenTF8Rqu"
      }
    },
    {
      "cell_type": "code",
      "source": [
        "import pandas as pd\n",
        "import numpy as np"
      ],
      "metadata": {
        "id": "t3sFOI4W-wId"
      },
      "execution_count": 1,
      "outputs": []
    },
    {
      "cell_type": "code",
      "source": [
        "mobile_full=pd.read_excel('edas_data_python.xlsx')\n",
        "mobile_full.head()"
      ],
      "metadata": {
        "colab": {
          "base_uri": "https://localhost:8080/",
          "height": 197
        },
        "id": "bqz3BsxZqBGe",
        "outputId": "d75e7999-f363-4ce5-8c2d-9370f6ab7792"
      },
      "execution_count": 2,
      "outputs": [
        {
          "output_type": "execute_result",
          "data": {
            "text/plain": [
              "  Alternatives   P/E RATİO  M/B RATIO       EPS  DIV. YIELD  DIV. PAYOUT\n",
              "0        AEFES   15.596684   0.426024  1.804230    0.063754     0.911525\n",
              "1         AVOD   15.107937   1.902159  0.125100    0.064819     0.000000\n",
              "2        BANVT  109.431308   8.433842  0.951282    0.009068     0.000000\n",
              "3        CCOLA   14.436836   2.225982  8.928549    0.068157     0.266561\n",
              "4        DARDL   12.916062   9.940285  0.274077    0.077423     0.000000"
            ],
            "text/html": [
              "\n",
              "  <div id=\"df-17f72885-67a7-414e-9e59-4630e2339871\">\n",
              "    <div class=\"colab-df-container\">\n",
              "      <div>\n",
              "<style scoped>\n",
              "    .dataframe tbody tr th:only-of-type {\n",
              "        vertical-align: middle;\n",
              "    }\n",
              "\n",
              "    .dataframe tbody tr th {\n",
              "        vertical-align: top;\n",
              "    }\n",
              "\n",
              "    .dataframe thead th {\n",
              "        text-align: right;\n",
              "    }\n",
              "</style>\n",
              "<table border=\"1\" class=\"dataframe\">\n",
              "  <thead>\n",
              "    <tr style=\"text-align: right;\">\n",
              "      <th></th>\n",
              "      <th>Alternatives</th>\n",
              "      <th>P/E RATİO</th>\n",
              "      <th>M/B RATIO</th>\n",
              "      <th>EPS</th>\n",
              "      <th>DIV. YIELD</th>\n",
              "      <th>DIV. PAYOUT</th>\n",
              "    </tr>\n",
              "  </thead>\n",
              "  <tbody>\n",
              "    <tr>\n",
              "      <th>0</th>\n",
              "      <td>AEFES</td>\n",
              "      <td>15.596684</td>\n",
              "      <td>0.426024</td>\n",
              "      <td>1.804230</td>\n",
              "      <td>0.063754</td>\n",
              "      <td>0.911525</td>\n",
              "    </tr>\n",
              "    <tr>\n",
              "      <th>1</th>\n",
              "      <td>AVOD</td>\n",
              "      <td>15.107937</td>\n",
              "      <td>1.902159</td>\n",
              "      <td>0.125100</td>\n",
              "      <td>0.064819</td>\n",
              "      <td>0.000000</td>\n",
              "    </tr>\n",
              "    <tr>\n",
              "      <th>2</th>\n",
              "      <td>BANVT</td>\n",
              "      <td>109.431308</td>\n",
              "      <td>8.433842</td>\n",
              "      <td>0.951282</td>\n",
              "      <td>0.009068</td>\n",
              "      <td>0.000000</td>\n",
              "    </tr>\n",
              "    <tr>\n",
              "      <th>3</th>\n",
              "      <td>CCOLA</td>\n",
              "      <td>14.436836</td>\n",
              "      <td>2.225982</td>\n",
              "      <td>8.928549</td>\n",
              "      <td>0.068157</td>\n",
              "      <td>0.266561</td>\n",
              "    </tr>\n",
              "    <tr>\n",
              "      <th>4</th>\n",
              "      <td>DARDL</td>\n",
              "      <td>12.916062</td>\n",
              "      <td>9.940285</td>\n",
              "      <td>0.274077</td>\n",
              "      <td>0.077423</td>\n",
              "      <td>0.000000</td>\n",
              "    </tr>\n",
              "  </tbody>\n",
              "</table>\n",
              "</div>\n",
              "      <button class=\"colab-df-convert\" onclick=\"convertToInteractive('df-17f72885-67a7-414e-9e59-4630e2339871')\"\n",
              "              title=\"Convert this dataframe to an interactive table.\"\n",
              "              style=\"display:none;\">\n",
              "        \n",
              "  <svg xmlns=\"http://www.w3.org/2000/svg\" height=\"24px\"viewBox=\"0 0 24 24\"\n",
              "       width=\"24px\">\n",
              "    <path d=\"M0 0h24v24H0V0z\" fill=\"none\"/>\n",
              "    <path d=\"M18.56 5.44l.94 2.06.94-2.06 2.06-.94-2.06-.94-.94-2.06-.94 2.06-2.06.94zm-11 1L8.5 8.5l.94-2.06 2.06-.94-2.06-.94L8.5 2.5l-.94 2.06-2.06.94zm10 10l.94 2.06.94-2.06 2.06-.94-2.06-.94-.94-2.06-.94 2.06-2.06.94z\"/><path d=\"M17.41 7.96l-1.37-1.37c-.4-.4-.92-.59-1.43-.59-.52 0-1.04.2-1.43.59L10.3 9.45l-7.72 7.72c-.78.78-.78 2.05 0 2.83L4 21.41c.39.39.9.59 1.41.59.51 0 1.02-.2 1.41-.59l7.78-7.78 2.81-2.81c.8-.78.8-2.07 0-2.86zM5.41 20L4 18.59l7.72-7.72 1.47 1.35L5.41 20z\"/>\n",
              "  </svg>\n",
              "      </button>\n",
              "      \n",
              "  <style>\n",
              "    .colab-df-container {\n",
              "      display:flex;\n",
              "      flex-wrap:wrap;\n",
              "      gap: 12px;\n",
              "    }\n",
              "\n",
              "    .colab-df-convert {\n",
              "      background-color: #E8F0FE;\n",
              "      border: none;\n",
              "      border-radius: 50%;\n",
              "      cursor: pointer;\n",
              "      display: none;\n",
              "      fill: #1967D2;\n",
              "      height: 32px;\n",
              "      padding: 0 0 0 0;\n",
              "      width: 32px;\n",
              "    }\n",
              "\n",
              "    .colab-df-convert:hover {\n",
              "      background-color: #E2EBFA;\n",
              "      box-shadow: 0px 1px 2px rgba(60, 64, 67, 0.3), 0px 1px 3px 1px rgba(60, 64, 67, 0.15);\n",
              "      fill: #174EA6;\n",
              "    }\n",
              "\n",
              "    [theme=dark] .colab-df-convert {\n",
              "      background-color: #3B4455;\n",
              "      fill: #D2E3FC;\n",
              "    }\n",
              "\n",
              "    [theme=dark] .colab-df-convert:hover {\n",
              "      background-color: #434B5C;\n",
              "      box-shadow: 0px 1px 3px 1px rgba(0, 0, 0, 0.15);\n",
              "      filter: drop-shadow(0px 1px 2px rgba(0, 0, 0, 0.3));\n",
              "      fill: #FFFFFF;\n",
              "    }\n",
              "  </style>\n",
              "\n",
              "      <script>\n",
              "        const buttonEl =\n",
              "          document.querySelector('#df-17f72885-67a7-414e-9e59-4630e2339871 button.colab-df-convert');\n",
              "        buttonEl.style.display =\n",
              "          google.colab.kernel.accessAllowed ? 'block' : 'none';\n",
              "\n",
              "        async function convertToInteractive(key) {\n",
              "          const element = document.querySelector('#df-17f72885-67a7-414e-9e59-4630e2339871');\n",
              "          const dataTable =\n",
              "            await google.colab.kernel.invokeFunction('convertToInteractive',\n",
              "                                                     [key], {});\n",
              "          if (!dataTable) return;\n",
              "\n",
              "          const docLinkHtml = 'Like what you see? Visit the ' +\n",
              "            '<a target=\"_blank\" href=https://colab.research.google.com/notebooks/data_table.ipynb>data table notebook</a>'\n",
              "            + ' to learn more about interactive tables.';\n",
              "          element.innerHTML = '';\n",
              "          dataTable['output_type'] = 'display_data';\n",
              "          await google.colab.output.renderOutput(dataTable, element);\n",
              "          const docLink = document.createElement('div');\n",
              "          docLink.innerHTML = docLinkHtml;\n",
              "          element.appendChild(docLink);\n",
              "        }\n",
              "      </script>\n",
              "    </div>\n",
              "  </div>\n",
              "  "
            ]
          },
          "metadata": {},
          "execution_count": 2
        }
      ]
    },
    {
      "cell_type": "markdown",
      "source": [
        "REFERENCE TABLE"
      ],
      "metadata": {
        "id": "-k8gLlLX8zVs"
      }
    },
    {
      "cell_type": "code",
      "source": [
        "criteria=['P/E RATIO','M/B RATIO','EPS','DIV. YIELD','DIV. PAYOUT']\n",
        "types=['cost','cost','benefit','benefit','cost']\n",
        "mobile_full_v2=mobile_full.iloc[:,1:6]\n",
        "mobile_full_v2.head()\n",
        "mobile_full_np=np.array(mobile_full_v2)\n",
        "print(mobile_full_np)"
      ],
      "metadata": {
        "colab": {
          "base_uri": "https://localhost:8080/"
        },
        "id": "9VRlPUcZ8P2U",
        "outputId": "4c11c105-b065-4352-fb17-ec63d35003f1"
      },
      "execution_count": 3,
      "outputs": [
        {
          "output_type": "stream",
          "name": "stdout",
          "text": [
            "[[ 1.55966845e+01  4.26023631e-01  1.80422962e+00  6.37536967e-02\n",
            "   9.11524778e-01]\n",
            " [ 1.51079369e+01  1.90215900e+00  1.25099808e-01  6.48185531e-02\n",
            "   0.00000000e+00]\n",
            " [ 1.09431308e+02  8.43384206e+00  9.51281692e-01  9.06846227e-03\n",
            "   0.00000000e+00]\n",
            " [ 1.44368359e+01  2.22598214e+00  8.92854925e+00  6.81568645e-02\n",
            "   2.66560662e-01]\n",
            " [ 1.29160621e+01  9.94028465e+00  2.74077345e-01  7.74229787e-02\n",
            "   0.00000000e+00]\n",
            " [ 3.80000000e+00  1.76000000e+00  1.65000000e+00  2.63157895e-01\n",
            "   0.00000000e+00]\n",
            " [ 2.69289455e+01  4.42461929e+00  6.96648148e-01  3.59653148e-02\n",
            "   1.07658364e+00]\n",
            " [ 7.55373593e+01  3.50904083e+00  5.42777778e-02  1.33360633e-02\n",
            "   0.00000000e+00]\n",
            " [ 1.62857737e+01  2.51100535e+00  3.86840694e-01  6.03495622e-02\n",
            "   0.00000000e+00]\n",
            " [ 1.44992930e+01  1.90044044e+00  6.76584713e-01  6.87586091e-02\n",
            "   1.67458705e-01]\n",
            " [ 1.88192144e+01  5.00493626e+00  3.84181818e-01  4.83247570e-02\n",
            "   0.00000000e+00]\n",
            " [ 1.22835003e+02  5.78659969e+00  5.51145833e-02  7.40787410e-03\n",
            "   0.00000000e+00]\n",
            " [ 4.73310951e+01  2.66384489e+00  6.79891304e-01  2.06027668e-02\n",
            "   0.00000000e+00]\n",
            " [ 2.11823479e+02  1.85098227e+00  1.67592376e-02  4.54179880e-03\n",
            "   0.00000000e+00]\n",
            " [ 1.43263067e+02  3.16202644e+00  1.23967750e-01  7.01175056e-03\n",
            "   0.00000000e+00]\n",
            " [ 3.55490798e+01  3.16744884e+00  7.03253085e-02  2.85875238e-02\n",
            "   0.00000000e+00]\n",
            " [ 2.30462221e+01  1.36178978e+00  1.98297143e-01  4.16590636e-02\n",
            "   0.00000000e+00]\n",
            " [ 2.10162585e+02  8.06995629e-01  1.12769835e-01  4.64838560e-03\n",
            "   1.14569646e+01]\n",
            " [-1.85064171e+01  2.22506174e+00 -2.80983617e-01 -5.27173765e-02\n",
            "   0.00000000e+00]\n",
            " [ 7.76000000e+00  6.58993066e-01  3.68000000e+00  1.28671329e-01\n",
            "   1.07418478e-01]\n",
            " [ 8.74185937e+00  1.63761170e+00  4.81590909e-01  1.13582762e-01\n",
            "   0.00000000e+00]\n",
            " [-5.54935029e+01  2.68384692e+00 -1.39115385e-01 -1.81139824e-02\n",
            "   0.00000000e+00]\n",
            " [ 9.13410099e+00  2.48079419e+00  1.64110294e+00  1.05198906e-01\n",
            "   1.29486088e-01]\n",
            " [ 5.03486485e+00  2.10592263e+00  3.73396319e+00  1.95393155e-01\n",
            "   8.57196453e-02]\n",
            " [ 2.33112132e+01  4.91458042e+00  7.30978688e-01  3.90063334e-02\n",
            "   0.00000000e+00]\n",
            " [-1.17478442e+01  1.27162538e+00 -1.35769591e+00 -8.46443832e-02\n",
            "  -5.95694438e-01]\n",
            " [ 6.25082032e+00  1.85170671e+00  6.09520000e-01  1.61248677e-01\n",
            "   0.00000000e+00]]\n"
          ]
        }
      ]
    },
    {
      "cell_type": "code",
      "source": [
        "len(types)"
      ],
      "metadata": {
        "colab": {
          "base_uri": "https://localhost:8080/"
        },
        "id": "nqzytLbwrBOM",
        "outputId": "f234b4ac-07f9-4a50-f2bd-b6fe23570702"
      },
      "execution_count": 6,
      "outputs": [
        {
          "output_type": "execute_result",
          "data": {
            "text/plain": [
              "5"
            ]
          },
          "metadata": {},
          "execution_count": 6
        }
      ]
    },
    {
      "cell_type": "markdown",
      "source": [
        "STEP 1 ) R- & R+"
      ],
      "metadata": {
        "id": "4L49UZzO1UoA"
      }
    },
    {
      "cell_type": "code",
      "source": [
        "pos_r=[]\n",
        "neg_r=[]\n",
        "for k in range(len(types)):\n",
        "  if types[k]=='benefit':\n",
        "    m=np.max(mobile_full_np,axis=0)\n",
        "    n=np.min(mobile_full_np,axis=0)\n",
        "  else :\n",
        "    m=np.min(mobile_full_np,axis=0)\n",
        "    n=np.max(mobile_full_np,axis=0)\n",
        "pos_r.append(m)\n",
        "neg_r.append(n)\n",
        "print('r+ : ', pos_r)\n",
        "print('r- : ', neg_r)"
      ],
      "metadata": {
        "colab": {
          "base_uri": "https://localhost:8080/"
        },
        "id": "rL2gBXI32LQK",
        "outputId": "296e4ab0-e13b-4705-e84f-63d661cccffc"
      },
      "execution_count": 9,
      "outputs": [
        {
          "output_type": "stream",
          "name": "stdout",
          "text": [
            "r+ :  [array([-55.4935029 ,   0.42602363,  -1.35769591,  -0.08464438,\n",
            "        -0.59569444])]\n",
            "r- :  [array([211.82347862,   9.94028465,   8.92854925,   0.26315789,\n",
            "        11.45696456])]\n"
          ]
        }
      ]
    },
    {
      "cell_type": "code",
      "source": [
        "neg_r[0][0]"
      ],
      "metadata": {
        "colab": {
          "base_uri": "https://localhost:8080/"
        },
        "id": "FIa9VjQjyqM8",
        "outputId": "6710c93e-2ac8-4376-908f-dbae28f973f1"
      },
      "execution_count": 38,
      "outputs": [
        {
          "output_type": "execute_result",
          "data": {
            "text/plain": [
              "211.82347861842103"
            ]
          },
          "metadata": {},
          "execution_count": 38
        }
      ]
    },
    {
      "cell_type": "markdown",
      "source": [
        "STEP 2) NORMALIZATION"
      ],
      "metadata": {
        "id": "Aeqifm9i4qyO"
      }
    },
    {
      "cell_type": "code",
      "source": [
        "normal_table=np.zeros(shape=(mobile_full_np.shape[0],mobile_full_np.shape[1]))\n",
        "for k in range(mobile_full_np.shape[1]):\n",
        "  for l in range(mobile_full_np.shape[0]):\n",
        "    m=(mobile_full_np[l][k]-neg_r[0][k])/(pos_r[0][k]-neg_r[0][k])\n",
        "    normal_table[l][k]=+m\n",
        "print(normal_table)     "
      ],
      "metadata": {
        "id": "TmtdTsdo1yjK"
      },
      "execution_count": 39,
      "outputs": []
    },
    {
      "cell_type": "code",
      "source": [
        "normal_table.shape"
      ],
      "metadata": {
        "colab": {
          "base_uri": "https://localhost:8080/"
        },
        "id": "5lY56oDw5lJ-",
        "outputId": "347e114c-c2f6-4933-edb2-22576001bae9"
      },
      "execution_count": 49,
      "outputs": [
        {
          "output_type": "execute_result",
          "data": {
            "text/plain": [
              "(27, 5)"
            ]
          },
          "metadata": {},
          "execution_count": 49
        }
      ]
    },
    {
      "cell_type": "code",
      "source": [
        "X = normal_table[:, [1]]\n",
        "X"
      ],
      "metadata": {
        "colab": {
          "base_uri": "https://localhost:8080/"
        },
        "id": "qKuTnwSr3wNZ",
        "outputId": "ca52002e-99f1-4be6-c0f1-be0085ac31f0"
      },
      "execution_count": 58,
      "outputs": [
        {
          "output_type": "execute_result",
          "data": {
            "text/plain": [
              "array([[ 1.        ],\n",
              "       [ 0.84485023],\n",
              "       [ 0.15833522],\n",
              "       [ 0.81081468],\n",
              "       [-0.        ],\n",
              "       [ 0.85979191],\n",
              "       [ 0.57972609],\n",
              "       [ 0.67595831],\n",
              "       [ 0.78085721],\n",
              "       [ 0.84503086],\n",
              "       [ 0.51873166],\n",
              "       [ 0.43657463],\n",
              "       [ 0.76479295],\n",
              "       [ 0.85022918],\n",
              "       [ 0.71243139],\n",
              "       [ 0.71186147],\n",
              "       [ 0.90164595],\n",
              "       [ 0.95995779],\n",
              "       [ 0.81091142],\n",
              "       [ 0.97551366],\n",
              "       [ 0.87265558],\n",
              "       [ 0.76269063],\n",
              "       [ 0.78403256],\n",
              "       [ 0.82343358],\n",
              "       [ 0.52822854],\n",
              "       [ 0.91112271],\n",
              "       [ 0.85015304]])"
            ]
          },
          "metadata": {},
          "execution_count": 58
        }
      ]
    },
    {
      "cell_type": "markdown",
      "source": [
        "STEP 3) Correlation Matrix"
      ],
      "metadata": {
        "id": "nW2p5C1n8pgy"
      }
    },
    {
      "cell_type": "code",
      "source": [
        "#x=normal_table[:, [0]]\n",
        "#y=normal_table[:, [1]]\n",
        "corr_mat=pd.DataFrame(normal_table)\n",
        "corr_mat_son=corr_mat.corr()\n",
        "corr_mat_son"
      ],
      "metadata": {
        "colab": {
          "base_uri": "https://localhost:8080/",
          "height": 197
        },
        "id": "E8hBYmpP1Qo-",
        "outputId": "860bf63c-3dd0-4278-943e-bea339d366df"
      },
      "execution_count": 68,
      "outputs": [
        {
          "output_type": "execute_result",
          "data": {
            "text/plain": [
              "          0         1         2         3         4\n",
              "0  1.000000  0.101119 -0.165792 -0.269337  0.515307\n",
              "1  0.101119  1.000000 -0.146008 -0.147629 -0.199341\n",
              "2 -0.165792 -0.146008  1.000000  0.434081 -0.048266\n",
              "3 -0.269337 -0.147629  0.434081  1.000000 -0.111502\n",
              "4  0.515307 -0.199341 -0.048266 -0.111502  1.000000"
            ],
            "text/html": [
              "\n",
              "  <div id=\"df-e579e8cc-f587-4ae4-8e39-4d5cf326bb04\">\n",
              "    <div class=\"colab-df-container\">\n",
              "      <div>\n",
              "<style scoped>\n",
              "    .dataframe tbody tr th:only-of-type {\n",
              "        vertical-align: middle;\n",
              "    }\n",
              "\n",
              "    .dataframe tbody tr th {\n",
              "        vertical-align: top;\n",
              "    }\n",
              "\n",
              "    .dataframe thead th {\n",
              "        text-align: right;\n",
              "    }\n",
              "</style>\n",
              "<table border=\"1\" class=\"dataframe\">\n",
              "  <thead>\n",
              "    <tr style=\"text-align: right;\">\n",
              "      <th></th>\n",
              "      <th>0</th>\n",
              "      <th>1</th>\n",
              "      <th>2</th>\n",
              "      <th>3</th>\n",
              "      <th>4</th>\n",
              "    </tr>\n",
              "  </thead>\n",
              "  <tbody>\n",
              "    <tr>\n",
              "      <th>0</th>\n",
              "      <td>1.000000</td>\n",
              "      <td>0.101119</td>\n",
              "      <td>-0.165792</td>\n",
              "      <td>-0.269337</td>\n",
              "      <td>0.515307</td>\n",
              "    </tr>\n",
              "    <tr>\n",
              "      <th>1</th>\n",
              "      <td>0.101119</td>\n",
              "      <td>1.000000</td>\n",
              "      <td>-0.146008</td>\n",
              "      <td>-0.147629</td>\n",
              "      <td>-0.199341</td>\n",
              "    </tr>\n",
              "    <tr>\n",
              "      <th>2</th>\n",
              "      <td>-0.165792</td>\n",
              "      <td>-0.146008</td>\n",
              "      <td>1.000000</td>\n",
              "      <td>0.434081</td>\n",
              "      <td>-0.048266</td>\n",
              "    </tr>\n",
              "    <tr>\n",
              "      <th>3</th>\n",
              "      <td>-0.269337</td>\n",
              "      <td>-0.147629</td>\n",
              "      <td>0.434081</td>\n",
              "      <td>1.000000</td>\n",
              "      <td>-0.111502</td>\n",
              "    </tr>\n",
              "    <tr>\n",
              "      <th>4</th>\n",
              "      <td>0.515307</td>\n",
              "      <td>-0.199341</td>\n",
              "      <td>-0.048266</td>\n",
              "      <td>-0.111502</td>\n",
              "      <td>1.000000</td>\n",
              "    </tr>\n",
              "  </tbody>\n",
              "</table>\n",
              "</div>\n",
              "      <button class=\"colab-df-convert\" onclick=\"convertToInteractive('df-e579e8cc-f587-4ae4-8e39-4d5cf326bb04')\"\n",
              "              title=\"Convert this dataframe to an interactive table.\"\n",
              "              style=\"display:none;\">\n",
              "        \n",
              "  <svg xmlns=\"http://www.w3.org/2000/svg\" height=\"24px\"viewBox=\"0 0 24 24\"\n",
              "       width=\"24px\">\n",
              "    <path d=\"M0 0h24v24H0V0z\" fill=\"none\"/>\n",
              "    <path d=\"M18.56 5.44l.94 2.06.94-2.06 2.06-.94-2.06-.94-.94-2.06-.94 2.06-2.06.94zm-11 1L8.5 8.5l.94-2.06 2.06-.94-2.06-.94L8.5 2.5l-.94 2.06-2.06.94zm10 10l.94 2.06.94-2.06 2.06-.94-2.06-.94-.94-2.06-.94 2.06-2.06.94z\"/><path d=\"M17.41 7.96l-1.37-1.37c-.4-.4-.92-.59-1.43-.59-.52 0-1.04.2-1.43.59L10.3 9.45l-7.72 7.72c-.78.78-.78 2.05 0 2.83L4 21.41c.39.39.9.59 1.41.59.51 0 1.02-.2 1.41-.59l7.78-7.78 2.81-2.81c.8-.78.8-2.07 0-2.86zM5.41 20L4 18.59l7.72-7.72 1.47 1.35L5.41 20z\"/>\n",
              "  </svg>\n",
              "      </button>\n",
              "      \n",
              "  <style>\n",
              "    .colab-df-container {\n",
              "      display:flex;\n",
              "      flex-wrap:wrap;\n",
              "      gap: 12px;\n",
              "    }\n",
              "\n",
              "    .colab-df-convert {\n",
              "      background-color: #E8F0FE;\n",
              "      border: none;\n",
              "      border-radius: 50%;\n",
              "      cursor: pointer;\n",
              "      display: none;\n",
              "      fill: #1967D2;\n",
              "      height: 32px;\n",
              "      padding: 0 0 0 0;\n",
              "      width: 32px;\n",
              "    }\n",
              "\n",
              "    .colab-df-convert:hover {\n",
              "      background-color: #E2EBFA;\n",
              "      box-shadow: 0px 1px 2px rgba(60, 64, 67, 0.3), 0px 1px 3px 1px rgba(60, 64, 67, 0.15);\n",
              "      fill: #174EA6;\n",
              "    }\n",
              "\n",
              "    [theme=dark] .colab-df-convert {\n",
              "      background-color: #3B4455;\n",
              "      fill: #D2E3FC;\n",
              "    }\n",
              "\n",
              "    [theme=dark] .colab-df-convert:hover {\n",
              "      background-color: #434B5C;\n",
              "      box-shadow: 0px 1px 3px 1px rgba(0, 0, 0, 0.15);\n",
              "      filter: drop-shadow(0px 1px 2px rgba(0, 0, 0, 0.3));\n",
              "      fill: #FFFFFF;\n",
              "    }\n",
              "  </style>\n",
              "\n",
              "      <script>\n",
              "        const buttonEl =\n",
              "          document.querySelector('#df-e579e8cc-f587-4ae4-8e39-4d5cf326bb04 button.colab-df-convert');\n",
              "        buttonEl.style.display =\n",
              "          google.colab.kernel.accessAllowed ? 'block' : 'none';\n",
              "\n",
              "        async function convertToInteractive(key) {\n",
              "          const element = document.querySelector('#df-e579e8cc-f587-4ae4-8e39-4d5cf326bb04');\n",
              "          const dataTable =\n",
              "            await google.colab.kernel.invokeFunction('convertToInteractive',\n",
              "                                                     [key], {});\n",
              "          if (!dataTable) return;\n",
              "\n",
              "          const docLinkHtml = 'Like what you see? Visit the ' +\n",
              "            '<a target=\"_blank\" href=https://colab.research.google.com/notebooks/data_table.ipynb>data table notebook</a>'\n",
              "            + ' to learn more about interactive tables.';\n",
              "          element.innerHTML = '';\n",
              "          dataTable['output_type'] = 'display_data';\n",
              "          await google.colab.output.renderOutput(dataTable, element);\n",
              "          const docLink = document.createElement('div');\n",
              "          docLink.innerHTML = docLinkHtml;\n",
              "          element.appendChild(docLink);\n",
              "        }\n",
              "      </script>\n",
              "    </div>\n",
              "  </div>\n",
              "  "
            ]
          },
          "metadata": {},
          "execution_count": 68
        }
      ]
    },
    {
      "cell_type": "markdown",
      "source": [
        "STEP 4) Standard Deviation"
      ],
      "metadata": {
        "id": "S8pmPFUI8mCA"
      }
    },
    {
      "cell_type": "code",
      "source": [
        "std_mat=corr_mat.std()\n",
        "print(std_mat)"
      ],
      "metadata": {
        "colab": {
          "base_uri": "https://localhost:8080/"
        },
        "id": "tcktX7LD8b7h",
        "outputId": "2a36692c-4b1d-4103-883a-6536a500ca14"
      },
      "execution_count": 69,
      "outputs": [
        {
          "output_type": "stream",
          "name": "stdout",
          "text": [
            "0    0.242233\n",
            "1    0.234332\n",
            "2    0.186939\n",
            "3    0.210557\n",
            "4    0.183289\n",
            "dtype: float64\n"
          ]
        }
      ]
    },
    {
      "cell_type": "markdown",
      "source": [
        "STEP 5) Index Criteria"
      ],
      "metadata": {
        "id": "glj2nLvg9F02"
      }
    },
    {
      "cell_type": "code",
      "source": [
        "index_criteria_list=[]\n",
        "for i in range(len(std_mat)):\n",
        "  x_list=[]\n",
        "  for j in range(corr_mat_son.shape[0]):\n",
        "    y=+corr_mat_son.iloc[0,j]\n",
        "    x=1-y\n",
        "    x_list.append(x)\n",
        "  z=sum(x_list)*std_mat[i]\n",
        "  index_criteria_list.append(z)\n"
      ],
      "metadata": {
        "id": "plVE1NbH9FUn"
      },
      "execution_count": 87,
      "outputs": []
    },
    {
      "cell_type": "markdown",
      "source": [
        "STEP 6) WEIGHTS"
      ],
      "metadata": {
        "id": "IW0hQUImDilD"
      }
    },
    {
      "cell_type": "code",
      "source": [
        "weight_list=[]\n",
        "for i in range(len(index_criteria_list)):\n",
        "  y=index_criteria_list[i]/sum(index_criteria_list)\n",
        "  weight_list.append(y)\n"
      ],
      "metadata": {
        "id": "7hht-yIHC9ZA"
      },
      "execution_count": 89,
      "outputs": []
    },
    {
      "cell_type": "code",
      "source": [
        "weight_list"
      ],
      "metadata": {
        "colab": {
          "base_uri": "https://localhost:8080/"
        },
        "id": "Ar3wIUyWDYYz",
        "outputId": "0ffb8497-4b80-444d-f438-2eb2fa3e9f82"
      },
      "execution_count": 90,
      "outputs": [
        {
          "output_type": "execute_result",
          "data": {
            "text/plain": [
              "[0.22909458417299952,\n",
              " 0.2216221304340067,\n",
              " 0.17679933919469204,\n",
              " 0.19913659135939563,\n",
              " 0.173347354838906]"
            ]
          },
          "metadata": {},
          "execution_count": 90
        }
      ]
    }
  ]
}